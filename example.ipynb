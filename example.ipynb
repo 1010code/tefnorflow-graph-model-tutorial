{
 "cells": [
  {
   "cell_type": "markdown",
   "metadata": {},
   "source": [
    "# Graphing Model Created with Model Subclassing"
   ]
  },
  {
   "cell_type": "code",
   "execution_count": 1,
   "metadata": {},
   "outputs": [],
   "source": [
    "from tensorflow import keras\n",
    "import tensorflow as tf\n",
    "import numpy as np\n",
    "\n",
    "tf.random.set_seed(0)\n",
    "\n",
    "class network(keras.Model):\n",
    "    def __init__(self):\n",
    "        super(network,self).__init__()\n",
    "        self.a = tf.Variable(tf.random.normal(shape=[2], stddev=1), name='slope')\n",
    "        self.b = tf.Variable(tf.random.normal(shape=[1], stddev=1), name='intercept')\n",
    "    def call(self,x):   \n",
    "        self.out = tf.reduce_sum(self.a * x, 1) + self.b\n",
    "        return self.out"
   ]
  },
  {
   "cell_type": "markdown",
   "metadata": {},
   "source": [
    "## Inference"
   ]
  },
  {
   "cell_type": "code",
   "execution_count": 2,
   "metadata": {},
   "outputs": [
    {
     "data": {
      "text/plain": [
       "array([2.0581021], dtype=float32)"
      ]
     },
     "execution_count": 2,
     "metadata": {},
     "output_type": "execute_result"
    }
   ],
   "source": [
    "net = network()\n",
    "net(np.array([[0.6, 0.2]], np.float32)).numpy()"
   ]
  },
  {
   "cell_type": "markdown",
   "metadata": {},
   "source": [
    "## Save Model"
   ]
  },
  {
   "cell_type": "code",
   "execution_count": 5,
   "metadata": {},
   "outputs": [
    {
     "name": "stdout",
     "output_type": "stream",
     "text": [
      "INFO:tensorflow:Assets written to: checkpoint/assets\n"
     ]
    }
   ],
   "source": [
    "tf.saved_model.save(net, 'checkpoint')"
   ]
  },
  {
   "cell_type": "markdown",
   "metadata": {},
   "source": [
    "## Load tf_saved_model"
   ]
  },
  {
   "cell_type": "code",
   "execution_count": 4,
   "metadata": {},
   "outputs": [
    {
     "data": {
      "text/plain": [
       "array([2.0581021], dtype=float32)"
      ]
     },
     "execution_count": 4,
     "metadata": {},
     "output_type": "execute_result"
    }
   ],
   "source": [
    "net_1 = tf.saved_model.load('checkpoint')\n",
    "net_1(np.array([a[0.6, 0.2]], np.float32)).numpy()"
   ]
  },
  {
   "cell_type": "markdown",
   "metadata": {},
   "source": [
    "## Convert to tfjs"
   ]
  },
  {
   "cell_type": "code",
   "execution_count": 6,
   "metadata": {},
   "outputs": [
    {
     "name": "stdout",
     "output_type": "stream",
     "text": [
      "2021-06-07 17:40:12.007296: W tensorflow/stream_executor/platform/default/dso_loader.cc:59] Could not load dynamic library 'libcudart.so.10.1'; dlerror: libcudart.so.10.1: cannot open shared object file: No such file or directory; LD_LIBRARY_PATH: \n",
      "2021-06-07 17:40:12.007332: I tensorflow/stream_executor/cuda/cudart_stub.cc:29] Ignore above cudart dlerror if you do not have a GPU set up on your machine.\n",
      "2021-06-07 17:40:13.494946: W tensorflow/stream_executor/platform/default/dso_loader.cc:59] Could not load dynamic library 'libcuda.so.1'; dlerror: libcuda.so.1: cannot open shared object file: No such file or directory; LD_LIBRARY_PATH: \n",
      "2021-06-07 17:40:13.494989: W tensorflow/stream_executor/cuda/cuda_driver.cc:312] failed call to cuInit: UNKNOWN ERROR (303)\n",
      "2021-06-07 17:40:13.495024: I tensorflow/stream_executor/cuda/cuda_diagnostics.cc:163] no NVIDIA GPU device is present: /dev/nvidia0 does not exist\n",
      "2021-06-07 17:40:13.495183: I tensorflow/core/platform/cpu_feature_guard.cc:142] This TensorFlow binary is optimized with oneAPI Deep Neural Network Library (oneDNN)to use the following CPU instructions in performance-critical operations:  AVX2 FMA\n",
      "To enable them in other operations, rebuild TensorFlow with the appropriate compiler flags.\n",
      "2021-06-07 17:40:13.523112: I tensorflow/core/platform/profile_utils/cpu_utils.cc:104] CPU Frequency: 3199745000 Hz\n",
      "2021-06-07 17:40:13.523294: I tensorflow/compiler/xla/service/service.cc:168] XLA service 0x55ab0b9c8130 initialized for platform Host (this does not guarantee that XLA will be used). Devices:\n",
      "2021-06-07 17:40:13.523309: I tensorflow/compiler/xla/service/service.cc:176]   StreamExecutor device (0): Host, Default Version\n",
      "2021-06-07 17:40:13.562272: I tensorflow/core/grappler/devices.cc:69] Number of eligible GPUs (core count >= 8, compute capability >= 0.0): 0\n",
      "2021-06-07 17:40:13.562344: I tensorflow/core/grappler/clusters/single_machine.cc:356] Starting new session\n",
      "2021-06-07 17:40:13.567172: I tensorflow/core/grappler/optimizers/meta_optimizer.cc:816] Optimization results for grappler item: graph_to_optimize\n",
      "2021-06-07 17:40:13.567186: I tensorflow/core/grappler/optimizers/meta_optimizer.cc:818]   function_optimizer: Graph size after: 16 nodes (11), 15 edges (10), time = 0.598ms.\n",
      "2021-06-07 17:40:13.567194: I tensorflow/core/grappler/optimizers/meta_optimizer.cc:818]   function_optimizer: function_optimizer did nothing. time = 0.012ms.\n",
      "2021-06-07 17:40:13.590336: I tensorflow/core/grappler/optimizers/meta_optimizer.cc:816] Optimization results for grappler item: graph_to_optimize\n",
      "2021-06-07 17:40:13.590351: I tensorflow/core/grappler/optimizers/meta_optimizer.cc:818]   debug_stripper: debug_stripper did nothing. time = 0.005ms.\n",
      "2021-06-07 17:40:13.590357: I tensorflow/core/grappler/optimizers/meta_optimizer.cc:818]   model_pruner: Graph size after: 8 nodes (-8), 7 edges (-8), time = 0.146ms.\n",
      "2021-06-07 17:40:13.590362: I tensorflow/core/grappler/optimizers/meta_optimizer.cc:818]   constant_folding: Graph size after: 8 nodes (0), 7 edges (0), time = 0.347ms.\n",
      "2021-06-07 17:40:13.590367: I tensorflow/core/grappler/optimizers/meta_optimizer.cc:818]   arithmetic_optimizer: Graph size after: 8 nodes (0), 7 edges (0), time = 0.264ms.\n",
      "2021-06-07 17:40:13.590372: I tensorflow/core/grappler/optimizers/meta_optimizer.cc:818]   dependency_optimizer: Graph size after: 8 nodes (0), 7 edges (0), time = 0.086ms.\n",
      "2021-06-07 17:40:13.590376: I tensorflow/core/grappler/optimizers/meta_optimizer.cc:818]   model_pruner: Graph size after: 8 nodes (0), 7 edges (0), time = 0.046ms.\n",
      "2021-06-07 17:40:13.590381: I tensorflow/core/grappler/optimizers/meta_optimizer.cc:818]   constant_folding: Graph size after: 8 nodes (0), 7 edges (0), time = 0.266ms.\n",
      "2021-06-07 17:40:13.590386: I tensorflow/core/grappler/optimizers/meta_optimizer.cc:818]   arithmetic_optimizer: Graph size after: 8 nodes (0), 7 edges (0), time = 0.222ms.\n",
      "2021-06-07 17:40:13.590390: I tensorflow/core/grappler/optimizers/meta_optimizer.cc:818]   dependency_optimizer: Graph size after: 8 nodes (0), 7 edges (0), time = 0.077ms.\n",
      "2021-06-07 17:40:13.590395: I tensorflow/core/grappler/optimizers/meta_optimizer.cc:818]   debug_stripper: debug_stripper did nothing. time = 0.008ms.\n",
      "2021-06-07 17:40:13.590399: I tensorflow/core/grappler/optimizers/meta_optimizer.cc:818]   model_pruner: Graph size after: 8 nodes (0), 7 edges (0), time = 0.038ms.\n",
      "2021-06-07 17:40:13.590404: I tensorflow/core/grappler/optimizers/meta_optimizer.cc:818]   constant_folding: Graph size after: 8 nodes (0), 7 edges (0), time = 0.202ms.\n",
      "2021-06-07 17:40:13.590409: I tensorflow/core/grappler/optimizers/meta_optimizer.cc:818]   arithmetic_optimizer: Graph size after: 8 nodes (0), 7 edges (0), time = 0.22ms.\n",
      "2021-06-07 17:40:13.590413: I tensorflow/core/grappler/optimizers/meta_optimizer.cc:818]   dependency_optimizer: Graph size after: 8 nodes (0), 7 edges (0), time = 0.075ms.\n",
      "2021-06-07 17:40:13.590418: I tensorflow/core/grappler/optimizers/meta_optimizer.cc:818]   model_pruner: Graph size after: 8 nodes (0), 7 edges (0), time = 0.043ms.\n",
      "2021-06-07 17:40:13.590423: I tensorflow/core/grappler/optimizers/meta_optimizer.cc:818]   constant_folding: Graph size after: 8 nodes (0), 7 edges (0), time = 0.201ms.\n",
      "2021-06-07 17:40:13.590427: I tensorflow/core/grappler/optimizers/meta_optimizer.cc:818]   arithmetic_optimizer: Graph size after: 8 nodes (0), 7 edges (0), time = 0.218ms.\n",
      "2021-06-07 17:40:13.590432: I tensorflow/core/grappler/optimizers/meta_optimizer.cc:818]   dependency_optimizer: Graph size after: 8 nodes (0), 7 edges (0), time = 0.075ms.\n",
      "2021-06-07 17:40:13.592822: I tensorflow/core/grappler/optimizers/meta_optimizer.cc:816] Optimization results for grappler item: graph_to_optimize\n",
      "2021-06-07 17:40:13.592836: I tensorflow/core/grappler/optimizers/meta_optimizer.cc:818]   remapper: Graph size after: 8 nodes (0), 7 edges (0), time = 0.07ms.\n",
      "2021-06-07 17:40:13.592842: I tensorflow/core/grappler/optimizers/meta_optimizer.cc:818]   constant_folding: Graph size after: 8 nodes (0), 7 edges (0), time = 0.272ms.\n",
      "2021-06-07 17:40:13.592847: I tensorflow/core/grappler/optimizers/meta_optimizer.cc:818]   arithmetic_optimizer: Graph size after: 8 nodes (0), 7 edges (0), time = 0.221ms.\n",
      "2021-06-07 17:40:13.592852: I tensorflow/core/grappler/optimizers/meta_optimizer.cc:818]   dependency_optimizer: Graph size after: 8 nodes (0), 7 edges (0), time = 0.078ms.\n",
      "2021-06-07 17:40:13.592856: I tensorflow/core/grappler/optimizers/meta_optimizer.cc:818]   remapper: Graph size after: 8 nodes (0), 7 edges (0), time = 0.046ms.\n",
      "2021-06-07 17:40:13.592861: I tensorflow/core/grappler/optimizers/meta_optimizer.cc:818]   constant_folding: Graph size after: 8 nodes (0), 7 edges (0), time = 0.197ms.\n",
      "2021-06-07 17:40:13.592866: I tensorflow/core/grappler/optimizers/meta_optimizer.cc:818]   arithmetic_optimizer: Graph size after: 8 nodes (0), 7 edges (0), time = 0.217ms.\n",
      "2021-06-07 17:40:13.592871: I tensorflow/core/grappler/optimizers/meta_optimizer.cc:818]   dependency_optimizer: Graph size after: 8 nodes (0), 7 edges (0), time = 0.075ms.\n",
      "Writing weight file ./tfjs_model/model.json...\n"
     ]
    }
   ],
   "source": [
    "!tensorflowjs_converter --input_format=tf_saved_model ./checkpoint ./tfjs_model"
   ]
  },
  {
   "cell_type": "code",
   "execution_count": null,
   "metadata": {},
   "outputs": [],
   "source": []
  }
 ],
 "metadata": {
  "kernelspec": {
   "display_name": "Python 3",
   "language": "python",
   "name": "python3"
  },
  "language_info": {
   "codemirror_mode": {
    "name": "ipython",
    "version": 3
   },
   "file_extension": ".py",
   "mimetype": "text/x-python",
   "name": "python",
   "nbconvert_exporter": "python",
   "pygments_lexer": "ipython3",
   "version": "3.7.6"
  }
 },
 "nbformat": 4,
 "nbformat_minor": 4
}
